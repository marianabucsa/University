{
 "cells": [
  {
   "cell_type": "code",
   "execution_count": 1,
   "metadata": {},
   "outputs": [
    {
     "data": {
      "text/html": [
       "<html><script type=\"math/tex; mode=display\">\\newcommand{\\Bold}[1]{\\mathbf{#1}}\\left[x\\left(t\\right) = \\frac{1}{2} \\, {\\left(C_{1} + 2 \\, C_{2}\\right)} e^{\\left(3 \\, t\\right)} + \\frac{1}{2} \\, {\\left(C_{1} - 2 \\, C_{2}\\right)} e^{\\left(-t\\right)}, y\\left(t\\right) = \\frac{1}{4} \\, {\\left(C_{1} + 2 \\, C_{2}\\right)} e^{\\left(3 \\, t\\right)} - \\frac{1}{4} \\, {\\left(C_{1} - 2 \\, C_{2}\\right)} e^{\\left(-t\\right)}\\right]</script></html>"
      ],
      "text/latex": [
       "\\begin{math}\n",
       "\\newcommand{\\Bold}[1]{\\mathbf{#1}}\\left[x\\left(t\\right) = \\frac{1}{2} \\, {\\left(C_{1} + 2 \\, C_{2}\\right)} e^{\\left(3 \\, t\\right)} + \\frac{1}{2} \\, {\\left(C_{1} - 2 \\, C_{2}\\right)} e^{\\left(-t\\right)}, y\\left(t\\right) = \\frac{1}{4} \\, {\\left(C_{1} + 2 \\, C_{2}\\right)} e^{\\left(3 \\, t\\right)} - \\frac{1}{4} \\, {\\left(C_{1} - 2 \\, C_{2}\\right)} e^{\\left(-t\\right)}\\right]\n",
       "\\end{math}"
      ],
      "text/plain": [
       "[x(t) == 1/2*(C1 + 2*C2)*e^(3*t) + 1/2*(C1 - 2*C2)*e^(-t),\n",
       " y(t) == 1/4*(C1 + 2*C2)*e^(3*t) - 1/4*(C1 - 2*C2)*e^(-t)]"
      ]
     },
     "metadata": {},
     "output_type": "display_data"
    }
   ],
   "source": [
    "reset()\n",
    "t = var('t')\n",
    "x=function('x')(t)\n",
    "y=function('y')(t)\n",
    "deq1=diff(x,t)==x+4*y\n",
    "deq2=diff(y,t)==x+y\n",
    "syst=[deq1,deq2]\n",
    "C1,C2=var('C1,C2')\n",
    "show(desolve_system(syst,[x,y],[0,C1,C2]))"
   ]
  },
  {
   "cell_type": "code",
   "execution_count": 2,
   "metadata": {},
   "outputs": [
    {
     "data": {
      "text/html": [
       "<html><script type=\"math/tex; mode=display\">\\newcommand{\\Bold}[1]{\\mathbf{#1}}\\left[x\\left(t\\right) = {\\left(C_{1} \\cos\\left(t\\right) - C_{2} \\sin\\left(t\\right)\\right)} e^{\\left(2 \\, t\\right)}, y\\left(t\\right) = {\\left(C_{2} \\cos\\left(t\\right) + C_{1} \\sin\\left(t\\right)\\right)} e^{\\left(2 \\, t\\right)}\\right]</script></html>"
      ],
      "text/latex": [
       "\\begin{math}\n",
       "\\newcommand{\\Bold}[1]{\\mathbf{#1}}\\left[x\\left(t\\right) = {\\left(C_{1} \\cos\\left(t\\right) - C_{2} \\sin\\left(t\\right)\\right)} e^{\\left(2 \\, t\\right)}, y\\left(t\\right) = {\\left(C_{2} \\cos\\left(t\\right) + C_{1} \\sin\\left(t\\right)\\right)} e^{\\left(2 \\, t\\right)}\\right]\n",
       "\\end{math}"
      ],
      "text/plain": [
       "[x(t) == (C1*cos(t) - C2*sin(t))*e^(2*t),\n",
       " y(t) == (C2*cos(t) + C1*sin(t))*e^(2*t)]"
      ]
     },
     "metadata": {},
     "output_type": "display_data"
    }
   ],
   "source": [
    "reset()\n",
    "t = var('t')\n",
    "x=function('x')(t)\n",
    "y=function('y')(t)\n",
    "deq1=diff(x,t)==2*x-y\n",
    "deq2=diff(y,t)==x+2*y\n",
    "syst=[deq1,deq2]\n",
    "C1,C2=var('C1,C2')\n",
    "show(desolve_system(syst,[x,y],[0,C1,C2]))"
   ]
  },
  {
   "cell_type": "code",
   "execution_count": 3,
   "metadata": {},
   "outputs": [
    {
     "data": {
      "text/html": [
       "<html><script type=\"math/tex; mode=display\">\\newcommand{\\Bold}[1]{\\mathbf{#1}}\\left[x\\left(t\\right) = C_{1} t e^{t} - C_{3} t e^{t} - {\\left(C_{1} + C_{2} - 2 \\, C_{3}\\right)} e^{\\left(2 \\, t\\right)} + {\\left(2 \\, C_{1} + C_{2} - 2 \\, C_{3}\\right)} e^{t}, y\\left(t\\right) = C_{1} t e^{t} - C_{3} t e^{t} + C_{2} e^{t}, z\\left(t\\right) = C_{1} t e^{t} - C_{3} t e^{t} - {\\left(C_{1} + C_{2} - 2 \\, C_{3}\\right)} e^{\\left(2 \\, t\\right)} + {\\left(C_{1} + C_{2} - C_{3}\\right)} e^{t}\\right]</script></html>"
      ],
      "text/latex": [
       "\\begin{math}\n",
       "\\newcommand{\\Bold}[1]{\\mathbf{#1}}\\left[x\\left(t\\right) = C_{1} t e^{t} - C_{3} t e^{t} - {\\left(C_{1} + C_{2} - 2 \\, C_{3}\\right)} e^{\\left(2 \\, t\\right)} + {\\left(2 \\, C_{1} + C_{2} - 2 \\, C_{3}\\right)} e^{t}, y\\left(t\\right) = C_{1} t e^{t} - C_{3} t e^{t} + C_{2} e^{t}, z\\left(t\\right) = C_{1} t e^{t} - C_{3} t e^{t} - {\\left(C_{1} + C_{2} - 2 \\, C_{3}\\right)} e^{\\left(2 \\, t\\right)} + {\\left(C_{1} + C_{2} - C_{3}\\right)} e^{t}\\right]\n",
       "\\end{math}"
      ],
      "text/plain": [
       "[x(t) == C1*t*e^t - C3*t*e^t - (C1 + C2 - 2*C3)*e^(2*t) + (2*C1 + C2 - 2*C3)*e^t,\n",
       " y(t) == C1*t*e^t - C3*t*e^t + C2*e^t,\n",
       " z(t) == C1*t*e^t - C3*t*e^t - (C1 + C2 - 2*C3)*e^(2*t) + (C1 + C2 - C3)*e^t]"
      ]
     },
     "metadata": {},
     "output_type": "display_data"
    }
   ],
   "source": [
    "reset()\n",
    "t = var('t')\n",
    "x=function('x')(t)\n",
    "y=function('y')(t)\n",
    "z=function('z')(t)\n",
    "deq1=diff(x,t)==x-y+z\n",
    "deq2=diff(y,t)==x+y-z\n",
    "deq3=diff(z,t)==-y+2*z\n",
    "syst=[deq1,deq2,deq3]\n",
    "C1,C2,C3=var('C1,C2,C3')\n",
    "show(desolve_system(syst,[x,y,z],[0,C1,C2,C3]))"
   ]
  },
  {
   "cell_type": "code",
   "execution_count": 4,
   "metadata": {},
   "outputs": [
    {
     "data": {
      "text/html": [
       "<html><script type=\"math/tex; mode=display\">\\newcommand{\\Bold}[1]{\\mathbf{#1}}\\left[x\\left(t\\right) = \\frac{1}{3} \\, {\\left(6 \\, C_{1} + 3 \\, C_{2} + 4\\right)} e^{\\left(2 \\, t\\right)} - \\frac{1}{3} \\, {\\left(3 \\, C_{1} + 3 \\, C_{2} - 2\\right)} e^{\\left(-t\\right)} - t e^{\\left(-t\\right)} - 2, y\\left(t\\right) = -\\frac{1}{3} \\, {\\left(6 \\, C_{1} + 3 \\, C_{2} + 4\\right)} e^{\\left(2 \\, t\\right)} + \\frac{1}{3} \\, {\\left(6 \\, C_{1} + 6 \\, C_{2} - 5\\right)} e^{\\left(-t\\right)} + 2 \\, t e^{\\left(-t\\right)} + 3\\right]</script></html>"
      ],
      "text/latex": [
       "\\begin{math}\n",
       "\\newcommand{\\Bold}[1]{\\mathbf{#1}}\\left[x\\left(t\\right) = \\frac{1}{3} \\, {\\left(6 \\, C_{1} + 3 \\, C_{2} + 4\\right)} e^{\\left(2 \\, t\\right)} - \\frac{1}{3} \\, {\\left(3 \\, C_{1} + 3 \\, C_{2} - 2\\right)} e^{\\left(-t\\right)} - t e^{\\left(-t\\right)} - 2, y\\left(t\\right) = -\\frac{1}{3} \\, {\\left(6 \\, C_{1} + 3 \\, C_{2} + 4\\right)} e^{\\left(2 \\, t\\right)} + \\frac{1}{3} \\, {\\left(6 \\, C_{1} + 6 \\, C_{2} - 5\\right)} e^{\\left(-t\\right)} + 2 \\, t e^{\\left(-t\\right)} + 3\\right]\n",
       "\\end{math}"
      ],
      "text/plain": [
       "[x(t) == 1/3*(6*C1 + 3*C2 + 4)*e^(2*t) - 1/3*(3*C1 + 3*C2 - 2)*e^(-t) - t*e^(-t) - 2,\n",
       " y(t) == -1/3*(6*C1 + 3*C2 + 4)*e^(2*t) + 1/3*(6*C1 + 6*C2 - 5)*e^(-t) + 2*t*e^(-t) + 3]"
      ]
     },
     "metadata": {},
     "output_type": "display_data"
    }
   ],
   "source": [
    "reset()\n",
    "t = var('t')\n",
    "x=function('x')(t)\n",
    "y=function('y')(t)\n",
    "deq1=diff(x,t)==5*x+3*y+1\n",
    "deq2=diff(y,t)==-6*x+-4*y+e^(-t)\n",
    "syst=[deq1,deq2]\n",
    "C1,C2=var('C1,C2')\n",
    "show(desolve_system(syst,[x,y],[0,C1,C2]))"
   ]
  },
  {
   "cell_type": "code",
   "execution_count": 5,
   "metadata": {},
   "outputs": [
    {
     "data": {
      "text/html": [
       "<html><script type=\"math/tex; mode=display\">\\newcommand{\\Bold}[1]{\\mathbf{#1}}\\left[x\\left(t\\right) = \\frac{3}{40} \\, {\\left(10 \\, C_{1} + 10 \\, C_{2} + 9\\right)} e^{\\left(2 \\, t\\right)} + \\frac{1}{40} \\, {\\left(10 \\, C_{1} - 30 \\, C_{2} - 19\\right)} e^{\\left(-2 \\, t\\right)} - \\frac{3}{2} \\, t - \\frac{1}{5} \\, \\cos\\left(t\\right) + \\frac{1}{5} \\, \\sin\\left(t\\right), y\\left(t\\right) = \\frac{1}{40} \\, {\\left(10 \\, C_{1} + 10 \\, C_{2} + 9\\right)} e^{\\left(2 \\, t\\right)} - \\frac{1}{40} \\, {\\left(10 \\, C_{1} - 30 \\, C_{2} - 19\\right)} e^{\\left(-2 \\, t\\right)} + \\frac{1}{2} \\, t - \\frac{1}{5} \\, \\cos\\left(t\\right) - \\frac{1}{2}\\right]</script></html>"
      ],
      "text/latex": [
       "\\begin{math}\n",
       "\\newcommand{\\Bold}[1]{\\mathbf{#1}}\\left[x\\left(t\\right) = \\frac{3}{40} \\, {\\left(10 \\, C_{1} + 10 \\, C_{2} + 9\\right)} e^{\\left(2 \\, t\\right)} + \\frac{1}{40} \\, {\\left(10 \\, C_{1} - 30 \\, C_{2} - 19\\right)} e^{\\left(-2 \\, t\\right)} - \\frac{3}{2} \\, t - \\frac{1}{5} \\, \\cos\\left(t\\right) + \\frac{1}{5} \\, \\sin\\left(t\\right), y\\left(t\\right) = \\frac{1}{40} \\, {\\left(10 \\, C_{1} + 10 \\, C_{2} + 9\\right)} e^{\\left(2 \\, t\\right)} - \\frac{1}{40} \\, {\\left(10 \\, C_{1} - 30 \\, C_{2} - 19\\right)} e^{\\left(-2 \\, t\\right)} + \\frac{1}{2} \\, t - \\frac{1}{5} \\, \\cos\\left(t\\right) - \\frac{1}{2}\\right]\n",
       "\\end{math}"
      ],
      "text/plain": [
       "[x(t) == 3/40*(10*C1 + 10*C2 + 9)*e^(2*t) + 1/40*(10*C1 - 30*C2 - 19)*e^(-2*t) - 3/2*t - 1/5*cos(t) + 1/5*sin(t),\n",
       " y(t) == 1/40*(10*C1 + 10*C2 + 9)*e^(2*t) - 1/40*(10*C1 - 30*C2 - 19)*e^(-2*t) + 1/2*t - 1/5*cos(t) - 1/2]"
      ]
     },
     "metadata": {},
     "output_type": "display_data"
    }
   ],
   "source": [
    "reset()\n",
    "t = var('t')\n",
    "x=function('x')(t)\n",
    "y=function('y')(t)\n",
    "deq1=diff(x,t)==x+3*y+cos(t)\n",
    "deq2=diff(y,t)==x-y+2*t\n",
    "syst=[deq1,deq2]\n",
    "C1,C2=var('C1,C2')\n",
    "show(desolve_system(syst,[x,y],[0,C1,C2]))"
   ]
  },
  {
   "cell_type": "code",
   "execution_count": 8,
   "metadata": {},
   "outputs": [
    {
     "data": {
      "text/html": [
       "<html><script type=\"math/tex; mode=display\">\\newcommand{\\Bold}[1]{\\mathbf{#1}}\\left[x\\left(t\\right) = \\frac{1}{3} \\, \\sqrt{3} {\\left(2 \\, C_{1} - C_{2} - 2 \\, C_{3}\\right)} \\sinh\\left(\\sqrt{3} t\\right) - C_{2} \\cosh\\left(\\sqrt{3} t\\right) + {\\left(C_{1} + C_{2}\\right)} e^{\\left(-t\\right)} + t e^{\\left(-t\\right)}, y\\left(t\\right) = -\\frac{1}{3} \\, \\sqrt{3} {\\left(2 \\, C_{1} - C_{2} - 2 \\, C_{3}\\right)} \\sinh\\left(\\sqrt{3} t\\right) + C_{2} \\cosh\\left(\\sqrt{3} t\\right), z\\left(t\\right) = \\sqrt{3} {\\left(C_{1} - C_{3}\\right)} \\sinh\\left(\\sqrt{3} t\\right) - {\\left(C_{1} + C_{2} - C_{3}\\right)} \\cosh\\left(\\sqrt{3} t\\right) + {\\left(C_{1} + C_{2}\\right)} e^{\\left(-t\\right)} + t e^{\\left(-t\\right)}\\right]</script></html>"
      ],
      "text/latex": [
       "\\begin{math}\n",
       "\\newcommand{\\Bold}[1]{\\mathbf{#1}}\\left[x\\left(t\\right) = \\frac{1}{3} \\, \\sqrt{3} {\\left(2 \\, C_{1} - C_{2} - 2 \\, C_{3}\\right)} \\sinh\\left(\\sqrt{3} t\\right) - C_{2} \\cosh\\left(\\sqrt{3} t\\right) + {\\left(C_{1} + C_{2}\\right)} e^{\\left(-t\\right)} + t e^{\\left(-t\\right)}, y\\left(t\\right) = -\\frac{1}{3} \\, \\sqrt{3} {\\left(2 \\, C_{1} - C_{2} - 2 \\, C_{3}\\right)} \\sinh\\left(\\sqrt{3} t\\right) + C_{2} \\cosh\\left(\\sqrt{3} t\\right), z\\left(t\\right) = \\sqrt{3} {\\left(C_{1} - C_{3}\\right)} \\sinh\\left(\\sqrt{3} t\\right) - {\\left(C_{1} + C_{2} - C_{3}\\right)} \\cosh\\left(\\sqrt{3} t\\right) + {\\left(C_{1} + C_{2}\\right)} e^{\\left(-t\\right)} + t e^{\\left(-t\\right)}\\right]\n",
       "\\end{math}"
      ],
      "text/plain": [
       "[x(t) == 1/3*sqrt(3)*(2*C1 - C2 - 2*C3)*sinh(sqrt(3)*t) - C2*cosh(sqrt(3)*t) + (C1 + C2)*e^(-t) + t*e^(-t),\n",
       " y(t) == -1/3*sqrt(3)*(2*C1 - C2 - 2*C3)*sinh(sqrt(3)*t) + C2*cosh(sqrt(3)*t),\n",
       " z(t) == sqrt(3)*(C1 - C3)*sinh(sqrt(3)*t) - (C1 + C2 - C3)*cosh(sqrt(3)*t) + (C1 + C2)*e^(-t) + t*e^(-t)]"
      ]
     },
     "metadata": {},
     "output_type": "display_data"
    }
   ],
   "source": [
    "reset()\n",
    "t = var('t')\n",
    "x=function('x')(t)\n",
    "y=function('y')(t)\n",
    "z=function('z')(t)\n",
    "deq1=diff(x,t)==x-2*y-2*z+e^(-t)\n",
    "deq2=diff(y,t)==-2*x+y+2*z\n",
    "deq3=diff(z,t)==2*x-y-3*z+e^(-t)\n",
    "syst=[deq1,deq2,deq3]\n",
    "C1,C2,C3=var('C1,C2,C3')\n",
    "show(desolve_system(syst,[x,y,z],[0,C1,C2,C3]))"
   ]
  },
  {
   "cell_type": "code",
   "execution_count": 17,
   "metadata": {},
   "outputs": [
    {
     "data": {
      "text/html": [
       "<html><script type=\"math/tex; mode=display\">\\newcommand{\\Bold}[1]{\\mathbf{#1}}\\frac{1}{2} \\, {\\left(C_{1} + 2 \\, C_{2}\\right)} e^{\\left(3 \\, t\\right)} + \\frac{1}{2} \\, {\\left(C_{1} - 2 \\, C_{2}\\right)} e^{\\left(-t\\right)}</script></html>"
      ],
      "text/latex": [
       "\\begin{math}\n",
       "\\newcommand{\\Bold}[1]{\\mathbf{#1}}\\frac{1}{2} \\, {\\left(C_{1} + 2 \\, C_{2}\\right)} e^{\\left(3 \\, t\\right)} + \\frac{1}{2} \\, {\\left(C_{1} - 2 \\, C_{2}\\right)} e^{\\left(-t\\right)}\n",
       "\\end{math}"
      ],
      "text/plain": [
       "1/2*(C1 + 2*C2)*e^(3*t) + 1/2*(C1 - 2*C2)*e^(-t)"
      ]
     },
     "metadata": {},
     "output_type": "display_data"
    },
    {
     "data": {
      "text/html": [
       "<html><script type=\"math/tex; mode=display\">\\newcommand{\\Bold}[1]{\\mathbf{#1}}\\frac{1}{4} \\, {\\left(C_{1} + 2 \\, C_{2}\\right)} e^{\\left(3 \\, t\\right)} - \\frac{1}{4} \\, {\\left(C_{1} - 2 \\, C_{2}\\right)} e^{\\left(-t\\right)}</script></html>"
      ],
      "text/latex": [
       "\\begin{math}\n",
       "\\newcommand{\\Bold}[1]{\\mathbf{#1}}\\frac{1}{4} \\, {\\left(C_{1} + 2 \\, C_{2}\\right)} e^{\\left(3 \\, t\\right)} - \\frac{1}{4} \\, {\\left(C_{1} - 2 \\, C_{2}\\right)} e^{\\left(-t\\right)}\n",
       "\\end{math}"
      ],
      "text/plain": [
       "1/4*(C1 + 2*C2)*e^(3*t) - 1/4*(C1 - 2*C2)*e^(-t)"
      ]
     },
     "metadata": {},
     "output_type": "display_data"
    },
    {
     "data": {
      "image/png": "[encoded data removed]",
      "text/plain": [
       "Graphics object consisting of 2 graphics primitives"
      ]
     },
     "metadata": {},
     "output_type": "display_data"
    }
   ],
   "source": [
    "reset()\n",
    "t = var('t')\n",
    "x=function('x')(t)\n",
    "y=function('y')(t)\n",
    "deq1=diff(x,t)==x+4*y\n",
    "deq2=diff(y,t)==x+y\n",
    "syst=[deq1,deq2]\n",
    "C1,C2=var('C1,C2')\n",
    "sol=desolve_system(syst,[x,y],[0,C1,C2])\n",
    "sol_x(t,C1,C2)=sol[0].rhs()\n",
    "sol_y(t,C1,C2)=sol[1].rhs()\n",
    "show(sol_x(t,C1,C2))\n",
    "show(sol_y(t,C1,C2))\n",
    "g1=plot(sol_x(t,1,2),t,-4,4,color='red')\n",
    "g2=plot(sol_y(t,1,2),t,-4,4,color='blue')\n",
    "show(g1+g2)"
   ]
  },
  {
   "cell_type": "code",
   "execution_count": 18,
   "metadata": {},
   "outputs": [
    {
     "data": {
      "text/html": [
       "<html><script type=\"math/tex; mode=display\">\\newcommand{\\Bold}[1]{\\mathbf{#1}}-\\frac{1}{221} \\, {\\left(\\sqrt{17} {\\left(39 \\, C_{1} + 26 \\, C_{2} + 144\\right)} \\sinh\\left(\\frac{1}{2} \\, \\sqrt{17} t\\right) - 17 \\, {\\left(13 \\, C_{1} + 33\\right)} \\cosh\\left(\\frac{1}{2} \\, \\sqrt{17} t\\right)\\right)} e^{\\left(\\frac{5}{2} \\, t\\right)} - 2 \\, t - \\frac{1}{26} \\, \\cos\\left(t\\right) + \\frac{5}{26} \\, \\sin\\left(t\\right) - \\frac{5}{2}</script></html>"
      ],
      "text/latex": [
       "\\begin{math}\n",
       "\\newcommand{\\Bold}[1]{\\mathbf{#1}}-\\frac{1}{221} \\, {\\left(\\sqrt{17} {\\left(39 \\, C_{1} + 26 \\, C_{2} + 144\\right)} \\sinh\\left(\\frac{1}{2} \\, \\sqrt{17} t\\right) - 17 \\, {\\left(13 \\, C_{1} + 33\\right)} \\cosh\\left(\\frac{1}{2} \\, \\sqrt{17} t\\right)\\right)} e^{\\left(\\frac{5}{2} \\, t\\right)} - 2 \\, t - \\frac{1}{26} \\, \\cos\\left(t\\right) + \\frac{5}{26} \\, \\sin\\left(t\\right) - \\frac{5}{2}\n",
       "\\end{math}"
      ],
      "text/plain": [
       "-1/221*(sqrt(17)*(39*C1 + 26*C2 + 144)*sinh(1/2*sqrt(17)*t) - 17*(13*C1 + 33)*cosh(1/2*sqrt(17)*t))*e^(5/2*t) - 2*t - 1/26*cos(t) + 5/26*sin(t) - 5/2"
      ]
     },
     "metadata": {},
     "output_type": "display_data"
    },
    {
     "data": {
      "text/html": [
       "<html><script type=\"math/tex; mode=display\">\\newcommand{\\Bold}[1]{\\mathbf{#1}}-\\frac{1}{442} \\, {\\left(\\sqrt{17} {\\left(104 \\, C_{1} - 78 \\, C_{2} + 129\\right)} \\sinh\\left(\\frac{1}{2} \\, \\sqrt{17} t\\right) - 17 \\, {\\left(26 \\, C_{2} + 45\\right)} \\cosh\\left(\\frac{1}{2} \\, \\sqrt{17} t\\right)\\right)} e^{\\left(\\frac{5}{2} \\, t\\right)} - t - \\frac{3}{13} \\, \\cos\\left(t\\right) + \\frac{2}{13} \\, \\sin\\left(t\\right) - \\frac{3}{2}</script></html>"
      ],
      "text/latex": [
       "\\begin{math}\n",
       "\\newcommand{\\Bold}[1]{\\mathbf{#1}}-\\frac{1}{442} \\, {\\left(\\sqrt{17} {\\left(104 \\, C_{1} - 78 \\, C_{2} + 129\\right)} \\sinh\\left(\\frac{1}{2} \\, \\sqrt{17} t\\right) - 17 \\, {\\left(26 \\, C_{2} + 45\\right)} \\cosh\\left(\\frac{1}{2} \\, \\sqrt{17} t\\right)\\right)} e^{\\left(\\frac{5}{2} \\, t\\right)} - t - \\frac{3}{13} \\, \\cos\\left(t\\right) + \\frac{2}{13} \\, \\sin\\left(t\\right) - \\frac{3}{2}\n",
       "\\end{math}"
      ],
      "text/plain": [
       "-1/442*(sqrt(17)*(104*C1 - 78*C2 + 129)*sinh(1/2*sqrt(17)*t) - 17*(26*C2 + 45)*cosh(1/2*sqrt(17)*t))*e^(5/2*t) - t - 3/13*cos(t) + 2/13*sin(t) - 3/2"
      ]
     },
     "metadata": {},
     "output_type": "display_data"
    },
    {
     "data": {
      "image/png": "[encoded data removed]",
      "text/plain": [
       "Graphics object consisting of 2 graphics primitives"
      ]
     },
     "metadata": {},
     "output_type": "display_data"
    }
   ],
   "source": [
    "reset()\n",
    "t = var('t')\n",
    "x=function('x')(t)\n",
    "y=function('y')(t)\n",
    "deq1=diff(x,t)==x-y+t-1\n",
    "deq2=diff(y,t)==-2*x+4*y+cos(t)\n",
    "syst=[deq1,deq2]\n",
    "C1,C2=var('C1,C2')\n",
    "sol=desolve_system(syst,[x,y],[0,C1,C2])\n",
    "sol_x(t,C1,C2)=sol[0].rhs()\n",
    "sol_y(t,C1,C2)=sol[1].rhs()\n",
    "show(sol_x(t,C1,C2))\n",
    "show(sol_y(t,C1,C2))\n",
    "g1=plot(sol_x(t,0,1),t,-4,4,color='red')\n",
    "g2=plot(sol_y(t,0,1),t,-4,4,color='blue')\n",
    "show(g1+g2)"
   ]
  },
  {
   "cell_type": "code",
   "execution_count": 20,
   "metadata": {},
   "outputs": [
    {
     "data": {
      "text/html": [
       "<html><script type=\"math/tex; mode=display\">\\newcommand{\\Bold}[1]{\\mathbf{#1}}\\frac{1}{20} \\, {\\left({\\left(20 \\, C_{1} - 3\\right)} \\cos\\left(2 \\, t\\right) + {\\left(20 \\, C_{2} + 9\\right)} \\sin\\left(2 \\, t\\right)\\right)} e^{t} - \\frac{1}{4} \\, e^{\\left(-t\\right)} + \\frac{2}{5}</script></html>"
      ],
      "text/latex": [
       "\\begin{math}\n",
       "\\newcommand{\\Bold}[1]{\\mathbf{#1}}\\frac{1}{20} \\, {\\left({\\left(20 \\, C_{1} - 3\\right)} \\cos\\left(2 \\, t\\right) + {\\left(20 \\, C_{2} + 9\\right)} \\sin\\left(2 \\, t\\right)\\right)} e^{t} - \\frac{1}{4} \\, e^{\\left(-t\\right)} + \\frac{2}{5}\n",
       "\\end{math}"
      ],
      "text/plain": [
       "1/20*((20*C1 - 3)*cos(2*t) + (20*C2 + 9)*sin(2*t))*e^t - 1/4*e^(-t) + 2/5"
      ]
     },
     "metadata": {},
     "output_type": "display_data"
    },
    {
     "data": {
      "text/html": [
       "<html><script type=\"math/tex; mode=display\">\\newcommand{\\Bold}[1]{\\mathbf{#1}}\\frac{1}{20} \\, {\\left({\\left(20 \\, C_{2} + 9\\right)} \\cos\\left(2 \\, t\\right) - {\\left(20 \\, C_{1} - 3\\right)} \\sin\\left(2 \\, t\\right)\\right)} e^{t} - \\frac{1}{4} \\, e^{\\left(-t\\right)} - \\frac{1}{5}</script></html>"
      ],
      "text/latex": [
       "\\begin{math}\n",
       "\\newcommand{\\Bold}[1]{\\mathbf{#1}}\\frac{1}{20} \\, {\\left({\\left(20 \\, C_{2} + 9\\right)} \\cos\\left(2 \\, t\\right) - {\\left(20 \\, C_{1} - 3\\right)} \\sin\\left(2 \\, t\\right)\\right)} e^{t} - \\frac{1}{4} \\, e^{\\left(-t\\right)} - \\frac{1}{5}\n",
       "\\end{math}"
      ],
      "text/plain": [
       "1/20*((20*C2 + 9)*cos(2*t) - (20*C1 - 3)*sin(2*t))*e^t - 1/4*e^(-t) - 1/5"
      ]
     },
     "metadata": {},
     "output_type": "display_data"
    },
    {
     "data": {
      "image/png": "[encoded data removed]",
      "text/plain": [
       "Graphics object consisting of 2 graphics primitives"
      ]
     },
     "metadata": {},
     "output_type": "display_data"
    }
   ],
   "source": [
    "reset()\n",
    "t = var('t')\n",
    "x=function('x')(t)\n",
    "y=function('y')(t)\n",
    "deq1=diff(x,t)==x+2*y+e^(-t)\n",
    "deq2=diff(y,t)==-2*x+y+1\n",
    "syst=[deq1,deq2]\n",
    "C1,C2=var('C1,C2')\n",
    "sol=desolve_system(syst,[x,y],[0,C1,C2])\n",
    "sol_x(t,C1,C2)=sol[0].rhs()\n",
    "sol_y(t,C1,C2)=sol[1].rhs()\n",
    "show(sol_x(t,C1,C2))\n",
    "show(sol_y(t,C1,C2))\n",
    "g1=plot(sol_x(t,0,1),t,-4,4,color='red')\n",
    "g2=plot(sol_y(t,0,1),t,-4,4,color='blue')\n",
    "show(g1+g2)"
   ]
  },
  {
   "cell_type": "code",
   "execution_count": 23,
   "metadata": {},
   "outputs": [
    {
     "data": {
      "text/html": [
       "<html><script type=\"math/tex; mode=display\">\\newcommand{\\Bold}[1]{\\mathbf{#1}}27 \\, t^{2} + \\frac{1}{2} \\, {\\left(2 \\, C_{1} - 3 \\, C_{2} - 3 \\, C_{3} - 108\\right)} e^{\\left(-t\\right)} + \\frac{3}{2} \\, {\\left(C_{2} + C_{3} + 6\\right)} e^{t} - 63 \\, t + 45</script></html>"
      ],
      "text/latex": [
       "\\begin{math}\n",
       "\\newcommand{\\Bold}[1]{\\mathbf{#1}}27 \\, t^{2} + \\frac{1}{2} \\, {\\left(2 \\, C_{1} - 3 \\, C_{2} - 3 \\, C_{3} - 108\\right)} e^{\\left(-t\\right)} + \\frac{3}{2} \\, {\\left(C_{2} + C_{3} + 6\\right)} e^{t} - 63 \\, t + 45\n",
       "\\end{math}"
      ],
      "text/plain": [
       "27*t^2 + 1/2*(2*C1 - 3*C2 - 3*C3 - 108)*e^(-t) + 3/2*(C2 + C3 + 6)*e^t - 63*t + 45"
      ]
     },
     "metadata": {},
     "output_type": "display_data"
    },
    {
     "data": {
      "text/html": [
       "<html><script type=\"math/tex; mode=display\">\\newcommand{\\Bold}[1]{\\mathbf{#1}}-18 \\, t^{2} + \\frac{1}{4} \\, {\\left(2 \\, C_{1} - 3 \\, C_{2} - 7 \\, C_{3} - 4\\right)} e^{\\left(3 \\, t\\right)} - \\frac{1}{4} \\, {\\left(2 \\, C_{1} - 3 \\, C_{2} - 3 \\, C_{3} - 108\\right)} e^{\\left(-t\\right)} + {\\left(C_{2} + C_{3} + 6\\right)} e^{t} + 24 \\, t - 32</script></html>"
      ],
      "text/latex": [
       "\\begin{math}\n",
       "\\newcommand{\\Bold}[1]{\\mathbf{#1}}-18 \\, t^{2} + \\frac{1}{4} \\, {\\left(2 \\, C_{1} - 3 \\, C_{2} - 7 \\, C_{3} - 4\\right)} e^{\\left(3 \\, t\\right)} - \\frac{1}{4} \\, {\\left(2 \\, C_{1} - 3 \\, C_{2} - 3 \\, C_{3} - 108\\right)} e^{\\left(-t\\right)} + {\\left(C_{2} + C_{3} + 6\\right)} e^{t} + 24 \\, t - 32\n",
       "\\end{math}"
      ],
      "text/plain": [
       "-18*t^2 + 1/4*(2*C1 - 3*C2 - 7*C3 - 4)*e^(3*t) - 1/4*(2*C1 - 3*C2 - 3*C3 - 108)*e^(-t) + (C2 + C3 + 6)*e^t + 24*t - 32"
      ]
     },
     "metadata": {},
     "output_type": "display_data"
    },
    {
     "data": {
      "text/html": [
       "<html><script type=\"math/tex; mode=display\">\\newcommand{\\Bold}[1]{\\mathbf{#1}}18 \\, t^{2} - \\frac{1}{4} \\, {\\left(2 \\, C_{1} - 3 \\, C_{2} - 7 \\, C_{3} - 4\\right)} e^{\\left(3 \\, t\\right)} + \\frac{1}{4} \\, {\\left(2 \\, C_{1} - 3 \\, C_{2} - 3 \\, C_{3} - 108\\right)} e^{\\left(-t\\right)} - 27 \\, t + 26</script></html>"
      ],
      "text/latex": [
       "\\begin{math}\n",
       "\\newcommand{\\Bold}[1]{\\mathbf{#1}}18 \\, t^{2} - \\frac{1}{4} \\, {\\left(2 \\, C_{1} - 3 \\, C_{2} - 7 \\, C_{3} - 4\\right)} e^{\\left(3 \\, t\\right)} + \\frac{1}{4} \\, {\\left(2 \\, C_{1} - 3 \\, C_{2} - 3 \\, C_{3} - 108\\right)} e^{\\left(-t\\right)} - 27 \\, t + 26\n",
       "\\end{math}"
      ],
      "text/plain": [
       "18*t^2 - 1/4*(2*C1 - 3*C2 - 7*C3 - 4)*e^(3*t) + 1/4*(2*C1 - 3*C2 - 3*C3 - 108)*e^(-t) - 27*t + 26"
      ]
     },
     "metadata": {},
     "output_type": "display_data"
    },
    {
     "data": {
      "image/png": "[encoded data removed]",
      "text/plain": [
       "Graphics object consisting of 3 graphics primitives"
      ]
     },
     "metadata": {},
     "output_type": "display_data"
    }
   ],
   "source": [
    "reset()\n",
    "t = var('t')\n",
    "x=function('x')(t)\n",
    "y=function('y')(t)\n",
    "z=function('z')(t)\n",
    "deq1=diff(x,t)==-x+3*y+3*z+27*t^2\n",
    "deq2=diff(y,t)==2*x-2*y-5*z+3*t\n",
    "deq3=diff(z,t)==-2*x+3*y+6*z+3\n",
    "syst=[deq1,deq2,deq3]\n",
    "C1,C2,C3=var('C1,C2,C3')\n",
    "sol=desolve_system(syst,[x,y,z],[0,C1,C2,C3])\n",
    "sol_x(t,C1,C2,C3)=sol[0].rhs()\n",
    "sol_y(t,C1,C2,C3)=sol[1].rhs()\n",
    "sol_z(t,C1,C2,C3)=sol[2].rhs()\n",
    "show(sol_x(t,C1,C2,C3))\n",
    "show(sol_y(t,C1,C2,C3))\n",
    "show(sol_z(t,C1,C2,C3))\n",
    "g1=plot(sol_x(t,50,-30,26),t,-4,4,color='red')\n",
    "g2=plot(sol_y(t,50,-30,26),t,-4,4,color='blue')\n",
    "g3=plot(sol_z(t,50,-30,26),t,-4,4,color='green')\n",
    "show(g1+g2+g3)"
   ]
  },
  {
   "cell_type": "code",
   "execution_count": 32,
   "metadata": {},
   "outputs": [
    {
     "data": {
      "text/html": [
       "<html><script type=\"math/tex; mode=display\">\\newcommand{\\Bold}[1]{\\mathbf{#1}}3 \\, e^{\\left(3 \\, t\\right)} - 6 \\, e^{\\left(2 \\, t\\right)}</script></html>"
      ],
      "text/latex": [
       "\\begin{math}\n",
       "\\newcommand{\\Bold}[1]{\\mathbf{#1}}3 \\, e^{\\left(3 \\, t\\right)} - 6 \\, e^{\\left(2 \\, t\\right)}\n",
       "\\end{math}"
      ],
      "text/plain": [
       "3*e^(3*t) - 6*e^(2*t)"
      ]
     },
     "metadata": {},
     "output_type": "display_data"
    },
    {
     "data": {
      "text/html": [
       "<html><script type=\"math/tex; mode=display\">\\newcommand{\\Bold}[1]{\\mathbf{#1}}6 \\, e^{\\left(3 \\, t\\right)} - 6 \\, e^{\\left(2 \\, t\\right)}</script></html>"
      ],
      "text/latex": [
       "\\begin{math}\n",
       "\\newcommand{\\Bold}[1]{\\mathbf{#1}}6 \\, e^{\\left(3 \\, t\\right)} - 6 \\, e^{\\left(2 \\, t\\right)}\n",
       "\\end{math}"
      ],
      "text/plain": [
       "6*e^(3*t) - 6*e^(2*t)"
      ]
     },
     "metadata": {},
     "output_type": "display_data"
    },
    {
     "data": {
      "text/html": [
       "<html><script type=\"math/tex; mode=display\">\\newcommand{\\Bold}[1]{\\mathbf{#1}}-3 \\, e^{\\left(3 \\, t\\right)} + 3 \\, e^{\\left(2 \\, t\\right)}</script></html>"
      ],
      "text/latex": [
       "\\begin{math}\n",
       "\\newcommand{\\Bold}[1]{\\mathbf{#1}}-3 \\, e^{\\left(3 \\, t\\right)} + 3 \\, e^{\\left(2 \\, t\\right)}\n",
       "\\end{math}"
      ],
      "text/plain": [
       "-3*e^(3*t) + 3*e^(2*t)"
      ]
     },
     "metadata": {},
     "output_type": "display_data"
    },
    {
     "data": {
      "text/html": [
       "<html><script type=\"math/tex; mode=display\">\\newcommand{\\Bold}[1]{\\mathbf{#1}}-6 \\, e^{\\left(3 \\, t\\right)} + 3 \\, e^{\\left(2 \\, t\\right)}</script></html>"
      ],
      "text/latex": [
       "\\begin{math}\n",
       "\\newcommand{\\Bold}[1]{\\mathbf{#1}}-6 \\, e^{\\left(3 \\, t\\right)} + 3 \\, e^{\\left(2 \\, t\\right)}\n",
       "\\end{math}"
      ],
      "text/plain": [
       "-6*e^(3*t) + 3*e^(2*t)"
      ]
     },
     "metadata": {},
     "output_type": "display_data"
    },
    {
     "data": {
      "text/html": [
       "<html><script type=\"math/tex; mode=display\">\\newcommand{\\Bold}[1]{\\mathbf{#1}}-3 \\, e^{\\left(3 \\, t\\right)} + 6 \\, e^{\\left(2 \\, t\\right)}</script></html>"
      ],
      "text/latex": [
       "\\begin{math}\n",
       "\\newcommand{\\Bold}[1]{\\mathbf{#1}}-3 \\, e^{\\left(3 \\, t\\right)} + 6 \\, e^{\\left(2 \\, t\\right)}\n",
       "\\end{math}"
      ],
      "text/plain": [
       "-3*e^(3*t) + 6*e^(2*t)"
      ]
     },
     "metadata": {},
     "output_type": "display_data"
    },
    {
     "data": {
      "text/html": [
       "<html><script type=\"math/tex; mode=display\">\\newcommand{\\Bold}[1]{\\mathbf{#1}}-6 \\, e^{\\left(3 \\, t\\right)} + 6 \\, e^{\\left(2 \\, t\\right)}</script></html>"
      ],
      "text/latex": [
       "\\begin{math}\n",
       "\\newcommand{\\Bold}[1]{\\mathbf{#1}}-6 \\, e^{\\left(3 \\, t\\right)} + 6 \\, e^{\\left(2 \\, t\\right)}\n",
       "\\end{math}"
      ],
      "text/plain": [
       "-6*e^(3*t) + 6*e^(2*t)"
      ]
     },
     "metadata": {},
     "output_type": "display_data"
    },
    {
     "data": {
      "text/html": [
       "<html><script type=\"math/tex; mode=display\">\\newcommand{\\Bold}[1]{\\mathbf{#1}}3 \\, e^{\\left(3 \\, t\\right)} - 3 \\, e^{\\left(2 \\, t\\right)}</script></html>"
      ],
      "text/latex": [
       "\\begin{math}\n",
       "\\newcommand{\\Bold}[1]{\\mathbf{#1}}3 \\, e^{\\left(3 \\, t\\right)} - 3 \\, e^{\\left(2 \\, t\\right)}\n",
       "\\end{math}"
      ],
      "text/plain": [
       "3*e^(3*t) - 3*e^(2*t)"
      ]
     },
     "metadata": {},
     "output_type": "display_data"
    },
    {
     "data": {
      "text/html": [
       "<html><script type=\"math/tex; mode=display\">\\newcommand{\\Bold}[1]{\\mathbf{#1}}6 \\, e^{\\left(3 \\, t\\right)} - 3 \\, e^{\\left(2 \\, t\\right)}</script></html>"
      ],
      "text/latex": [
       "\\begin{math}\n",
       "\\newcommand{\\Bold}[1]{\\mathbf{#1}}6 \\, e^{\\left(3 \\, t\\right)} - 3 \\, e^{\\left(2 \\, t\\right)}\n",
       "\\end{math}"
      ],
      "text/plain": [
       "6*e^(3*t) - 3*e^(2*t)"
      ]
     },
     "metadata": {},
     "output_type": "display_data"
    },
    {
     "data": {
      "text/html": [
       "<html><script type=\"math/tex; mode=display\">\\newcommand{\\Bold}[1]{\\mathbf{#1}}+\\infty</script></html>"
      ],
      "text/latex": [
       "\\begin{math}\n",
       "\\newcommand{\\Bold}[1]{\\mathbf{#1}}+\\infty\n",
       "\\end{math}"
      ],
      "text/plain": [
       "+Infinity"
      ]
     },
     "metadata": {},
     "output_type": "display_data"
    },
    {
     "data": {
      "text/html": [
       "<html><script type=\"math/tex; mode=display\">\\newcommand{\\Bold}[1]{\\mathbf{#1}}+\\infty</script></html>"
      ],
      "text/latex": [
       "\\begin{math}\n",
       "\\newcommand{\\Bold}[1]{\\mathbf{#1}}+\\infty\n",
       "\\end{math}"
      ],
      "text/plain": [
       "+Infinity"
      ]
     },
     "metadata": {},
     "output_type": "display_data"
    },
    {
     "data": {
      "text/html": [
       "<html><script type=\"math/tex; mode=display\">\\newcommand{\\Bold}[1]{\\mathbf{#1}}-\\infty</script></html>"
      ],
      "text/latex": [
       "\\begin{math}\n",
       "\\newcommand{\\Bold}[1]{\\mathbf{#1}}-\\infty\n",
       "\\end{math}"
      ],
      "text/plain": [
       "-Infinity"
      ]
     },
     "metadata": {},
     "output_type": "display_data"
    },
    {
     "data": {
      "text/html": [
       "<html><script type=\"math/tex; mode=display\">\\newcommand{\\Bold}[1]{\\mathbf{#1}}-\\infty</script></html>"
      ],
      "text/latex": [
       "\\begin{math}\n",
       "\\newcommand{\\Bold}[1]{\\mathbf{#1}}-\\infty\n",
       "\\end{math}"
      ],
      "text/plain": [
       "-Infinity"
      ]
     },
     "metadata": {},
     "output_type": "display_data"
    },
    {
     "data": {
      "text/html": [
       "<html><script type=\"math/tex; mode=display\">\\newcommand{\\Bold}[1]{\\mathbf{#1}}-\\infty</script></html>"
      ],
      "text/latex": [
       "\\begin{math}\n",
       "\\newcommand{\\Bold}[1]{\\mathbf{#1}}-\\infty\n",
       "\\end{math}"
      ],
      "text/plain": [
       "-Infinity"
      ]
     },
     "metadata": {},
     "output_type": "display_data"
    },
    {
     "data": {
      "text/html": [
       "<html><script type=\"math/tex; mode=display\">\\newcommand{\\Bold}[1]{\\mathbf{#1}}-\\infty</script></html>"
      ],
      "text/latex": [
       "\\begin{math}\n",
       "\\newcommand{\\Bold}[1]{\\mathbf{#1}}-\\infty\n",
       "\\end{math}"
      ],
      "text/plain": [
       "-Infinity"
      ]
     },
     "metadata": {},
     "output_type": "display_data"
    },
    {
     "data": {
      "text/html": [
       "<html><script type=\"math/tex; mode=display\">\\newcommand{\\Bold}[1]{\\mathbf{#1}}+\\infty</script></html>"
      ],
      "text/latex": [
       "\\begin{math}\n",
       "\\newcommand{\\Bold}[1]{\\mathbf{#1}}+\\infty\n",
       "\\end{math}"
      ],
      "text/plain": [
       "+Infinity"
      ]
     },
     "metadata": {},
     "output_type": "display_data"
    },
    {
     "data": {
      "text/html": [
       "<html><script type=\"math/tex; mode=display\">\\newcommand{\\Bold}[1]{\\mathbf{#1}}+\\infty</script></html>"
      ],
      "text/latex": [
       "\\begin{math}\n",
       "\\newcommand{\\Bold}[1]{\\mathbf{#1}}+\\infty\n",
       "\\end{math}"
      ],
      "text/plain": [
       "+Infinity"
      ]
     },
     "metadata": {},
     "output_type": "display_data"
    }
   ],
   "source": [
    "reset()\n",
    "t = var('t')\n",
    "x=function('x')(t)\n",
    "y=function('y')(t)\n",
    "deq1=diff(x,t)==x+y\n",
    "deq2=diff(y,t)==-2*x+4*y\n",
    "syst=[deq1,deq2]\n",
    "C1,C2=var('C1,C2')\n",
    "sol=desolve_system(syst,[x,y],[0,C1,C2])\n",
    "sol_x(t,C1,C2)=sol[0].rhs()\n",
    "sol_y(t,C1,C2)=sol[1].rhs()\n",
    "for k in [-3,3]:\n",
    "    show(sol_x(t,k,0))\n",
    "    show(sol_y(t,k,0))\n",
    "    show(sol_x(t,0,k))\n",
    "    show(sol_y(t,0,k))\n",
    "for k in [-3,3]:\n",
    "    show(limit(sol_x(t,k,0),t=infinity))\n",
    "    show(limit(sol_y(t,k,0),t=infinity))\n",
    "    show(limit(sol_x(t,0,k),t=infinity))\n",
    "    show(limit(sol_y(t,0,k),t=infinity))\n"
   ]
  }
 ],
 "metadata": {
  "kernelspec": {
   "display_name": "SageMath 9.2",
   "language": "sage",
   "name": "sagemath"
  },
  "language_info": {
   "codemirror_mode": {
    "name": "ipython",
    "version": 3
   },
   "file_extension": ".py",
   "mimetype": "text/x-python",
   "name": "python",
   "nbconvert_exporter": "python",
   "pygments_lexer": "ipython3",
   "version": "3.7.7"
  }
 },
 "nbformat": 4,
 "nbformat_minor": 4
}
